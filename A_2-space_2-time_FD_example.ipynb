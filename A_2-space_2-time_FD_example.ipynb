{
  "nbformat": 4,
  "nbformat_minor": 0,
  "metadata": {
    "colab": {
      "name": "Finite-difference_example.ipynb",
      "provenance": [],
      "collapsed_sections": [],
      "include_colab_link": true
    },
    "kernelspec": {
      "display_name": "Python 3",
      "name": "python3"
    }
  },
  "cells": [
    {
      "cell_type": "markdown",
      "metadata": {
        "id": "view-in-github",
        "colab_type": "text"
      },
      "source": [
        "<a href=\"https://colab.research.google.com/github/garg-aayush/Seismic-FDmodelling-Tutorial/blob/main/A_2-space_2-time_FD_example.ipynb\" target=\"_parent\"><img src=\"https://colab.research.google.com/assets/colab-badge.svg\" alt=\"Open In Colab\"/></a>"
      ]
    },
    {
      "cell_type": "markdown",
      "metadata": {
        "id": "-pVhOfzLx9us"
      },
      "source": [
        ""
      ]
    },
    {
      "cell_type": "code",
      "metadata": {
        "id": "G_kVGH6RHL-6"
      },
      "source": [
        "# load the required modules \n",
        "\n",
        "#NBVAL_IGNORE_OUTPUT\n",
        "# Adding ignore due to (probably an np notebook magic) bug\n",
        "import matplotlib.pyplot as plt\n",
        "from mpl_toolkits.axes_grid1.axes_divider import make_axes_locatable\n",
        "from matplotlib import cm\n",
        "import numpy as np\n",
        "\n",
        "%matplotlib inline"
      ],
      "execution_count": 6,
      "outputs": []
    },
    {
      "cell_type": "markdown",
      "metadata": {
        "id": "WYfTBgTOLTSS"
      },
      "source": [
        "#### Helper plotting functions"
      ]
    },
    {
      "cell_type": "code",
      "metadata": {
        "cellView": "form",
        "id": "qKp-4r5LJOlP"
      },
      "source": [
        "#@title\n",
        "# helper plotting functions\n",
        "\n",
        "import numpy as np\n",
        "\n",
        "def plot_velocity(model, x, z, si_units=True, source=None, receiver=None, figsize=(10,10), markersize=50, colorbar=True, cmap=\"jet\") :\n",
        "    \"\"\"\n",
        "    Plot the velocity model\n",
        "    \n",
        "    Parameters\n",
        "    ----------\n",
        "    model       : 2D array (nz,nx) containing the model\n",
        "    x           : horizontal axis\n",
        "    z           : vertical axis\n",
        "    si_units    : bool (default: False)\n",
        "    source      : Source point coordinates (array_like or float)\n",
        "    receiver    : Source point coordinates (array_like or float)\n",
        "    figsize     : tuple (default: (10,10)\n",
        "    markersize  : scatter points size (default: 50)\n",
        "    colorbar    : True or false\n",
        "    cmap        : colormap (default: jet)\n",
        "    \n",
        "    Note: model,x,z,receiver and source should be in same units\n",
        "    \n",
        "    author   : Aayush Garg\n",
        "    contact  : aayushgargiitr[At]gmail.com\n",
        "\n",
        "    The code is taken from Devito example codes and modified to fit the purpose\n",
        "    \"\"\"\n",
        "    \n",
        "\n",
        "    if si_units:\n",
        "        model = 1e-3 * model\n",
        "        x = 1e-3 * x\n",
        "        z = 1e-3 * z\n",
        "        \n",
        "        if receiver is not None:\n",
        "            receiver = 1e-3 * receiver\n",
        "        if source is not None:\n",
        "            source = 1e-3 * source\n",
        "\n",
        "        \n",
        "    extent = [x[0], x[-1], z[-1], z[0]]\n",
        "    \n",
        "    fig = plt.figure(figsize=figsize)\n",
        "    plot = plt.imshow(model, animated=True, cmap=cmap,\n",
        "                      vmin=np.min(model), vmax=np.max(model),\n",
        "                      extent=extent)\n",
        "    plt.xlabel('X position (km)')\n",
        "    plt.ylabel('Depth (km)')\n",
        "\n",
        "    # Plot source points, if provided\n",
        "    if receiver is not None:\n",
        "        plt.scatter(receiver[0, :], receiver[1, :],\n",
        "                    s=markersize, c='green', marker='D')\n",
        "\n",
        "    # Plot receiver points, if provided\n",
        "    if source is not None:\n",
        "        plt.scatter(source[0, :], source[1, :],\n",
        "                    s=markersize, c='red', marker='o')\n",
        "\n",
        "    # Ensure axis limits\n",
        "    plt.xlim(x[0], x[-1])\n",
        "    plt.ylim(z[-1], z[0])\n",
        "    \n",
        "    # Create aligned colorbar on the right\n",
        "    if colorbar:\n",
        "        ax = plt.gca()\n",
        "        divider = make_axes_locatable(ax)\n",
        "        cax = divider.append_axes(\"right\", size=\"5%\", pad=0.05)\n",
        "        cbar = plt.colorbar(plot, cax=cax)\n",
        "        cbar.set_label('Velocity (km/s)')\n",
        "    plt.show()\n",
        "\n",
        "def plot_shotrecord(rec, model, t0=0, dt=0.001, dx=10, perc=99, figsize=(10,10), colorbar=True):\n",
        "    \"\"\" \n",
        "    Plot a shot record\n",
        "\n",
        "    Parameters\n",
        "    ----------\n",
        "    rec     : shot gather, 2D array (nt, ng)\n",
        "    dx      : horizontal spacing (in m)\n",
        "    dt      : time sampling (in s)\n",
        "    t0      : start time (in s)\n",
        "    perc    : clipping percentile value (default: 99)\n",
        "    figsize : tuple (default: (10,10)\n",
        "    colorbar: True or False\n",
        "\n",
        "    author   : Aayush Garg\n",
        "    contact  : aayushgargiitr@gmail.com\n",
        "\n",
        "    The code is taken from Devito example codes and modified to fit the purpose\n",
        "    \"\"\"\n",
        "   \n",
        "    scale = np.percentile(np.abs(rec), perc)\n",
        "    nt, nx = rec.shape\n",
        "    extent = [0, 1e-3*dx*(nx-1), t0 + dt*(nt-1), t0 ]\n",
        "\n",
        "    fig = plt.figure(figsize=figsize)\n",
        "    plot = plt.imshow(rec, vmin=-scale, vmax=scale, cmap=cm.gray, extent=extent)\n",
        "    plt.xlabel('X position (km)')\n",
        "    plt.ylabel('Time (s)')\n",
        "\n",
        "    # Create aligned colorbar on the right\n",
        "    if colorbar:\n",
        "        ax = plt.gca()\n",
        "        divider = make_axes_locatable(ax)\n",
        "        cax = divider.append_axes(\"right\", size=\"5%\", pad=0.05)\n",
        "        plt.colorbar(plot, cax=cax)\n",
        "    plt.show()"
      ],
      "execution_count": 12,
      "outputs": []
    },
    {
      "cell_type": "markdown",
      "metadata": {
        "id": "O-_cQNSrMaIm"
      },
      "source": [
        "#### Define the model"
      ]
    },
    {
      "cell_type": "code",
      "metadata": {
        "id": "whlH1HdjMXa2",
        "outputId": "bc6f316d-a913-4199-cef5-4e07f78e8d17",
        "colab": {
          "base_uri": "https://localhost:8080/",
          "height": 328
        }
      },
      "source": [
        "# Define the model parameters\n",
        "nz, nx = (101, 101)\n",
        "dx = 10\n",
        "dz = 10\n",
        "\n",
        "# x and z axis\n",
        "x_ax = np.arange(0, nx*dx, dx)\n",
        "z_ax = np.arange(0, nz*dz, dz)\n",
        "\n",
        "# Define the velocity profile. The velocity is in m/s\n",
        "vel = np.zeros((nz,nx))\n",
        "vel[:51, :] = 1000\n",
        "vel[51:, :] = 2500\n",
        "\n",
        "# Q.C. the velocity model\n",
        "plot_velocity(vel, x=x_ax, z=z_ax, si_units=True, figsize=(5,15), colorbar=True, cmap=\"jet\")"
      ],
      "execution_count": 25,
      "outputs": [
        {
          "output_type": "display_data",
          "data": {
            "image/png": "[encoded data removed]",
            "text/plain": [
              "<Figure size 360x1080 with 2 Axes>"
            ]
          },
          "metadata": {
            "tags": [],
            "needs_background": "light"
          }
        }
      ]
    },
    {
      "cell_type": "code",
      "metadata": {
        "id": "B4XevYEOSkm1",
        "outputId": "f906d80f-10ba-4288-ae75-e56059e6d556",
        "colab": {
          "base_uri": "https://localhost:8080/"
        }
      },
      "source": [
        "dt = 0.001\n",
        "t = 1\n",
        "nt = round(t/dt) + 1\n",
        "\n",
        "t_ax = np.arange(0,nt*dt, dt)\n",
        "\n",
        "\n",
        "#src = =\n",
        "#(np.pi * self.f0 * (self.time_values - t0))\n",
        "#       return a * (1-2.*r**2)*np.exp(-r**2)\n",
        "t_ax.shape\n",
        "x_ax.shape"
      ],
      "execution_count": 27,
      "outputs": [
        {
          "output_type": "execute_result",
          "data": {
            "text/plain": [
              "(101,)"
            ]
          },
          "metadata": {
            "tags": []
          },
          "execution_count": 27
        }
      ]
    },
    {
      "cell_type": "markdown",
      "metadata": {
        "id": "hOdd5vw7MqqN"
      },
      "source": [
        "#### Create a wavelet"
      ]
    },
    {
      "cell_type": "markdown",
      "metadata": {
        "id": "K-NVg7RjyeTk"
      },
      "source": [
        "## Loading Public Notebooks Directly from GitHub\n",
        "\n",
        "Colab can load public github notebooks directly, with no required authorization step.\n",
        "\n",
        "For example, consider the notebook at this address: https://github.com/googlecolab/colabtools/blob/master/notebooks/colab-github-demo.ipynb.\n",
        "\n",
        "The direct colab link to this notebook is: https://colab.research.google.com/github/googlecolab/colabtools/blob/master/notebooks/colab-github-demo.ipynb.\n",
        "\n",
        "To generate such links in one click, you can use the [Open in Colab](https://chrome.google.com/webstore/detail/open-in-colab/iogfkhleblhcpcekbiedikdehleodpjo) Chrome extension."
      ]
    },
    {
      "cell_type": "markdown",
      "metadata": {
        "id": "WzIRIt9d2huC"
      },
      "source": [
        "## Browsing GitHub Repositories from Colab\n",
        "\n",
        "Colab also supports special URLs that link directly to a GitHub browser for any user/organization, repository, or branch. For example:\n",
        "\n",
        "- http://colab.research.google.com/github will give you a general github browser, where you can search for any github organization or username.\n",
        "- http://colab.research.google.com/github/googlecolab/ will open the repository browser for the ``googlecolab`` organization. Replace ``googlecolab`` with any other github org or user to see their repositories.\n",
        "- http://colab.research.google.com/github/googlecolab/colabtools/ will let you browse the main branch of the ``colabtools`` repository within the ``googlecolab`` organization. Substitute any user/org and repository to see its contents.\n",
        "- http://colab.research.google.com/github/googlecolab/colabtools/blob/master will let you browse ``master`` branch of the ``colabtools`` repository within the ``googlecolab`` organization. (don't forget the ``blob`` here!) You can specify any valid branch for any valid repository."
      ]
    },
    {
      "cell_type": "markdown",
      "metadata": {
        "id": "Rmai0dD30XzL"
      },
      "source": [
        "## Loading Private Notebooks\n",
        "\n",
        "Loading a notebook from a private GitHub repository is possible, but requires an additional step to allow Colab to access your files.\n",
        "Do the following:\n",
        "\n",
        "1. Navigate to http://colab.research.google.com/github.\n",
        "2. Click the \"Include Private Repos\" checkbox.\n",
        "3. In the popup window, sign-in to your Github account and authorize Colab to read the private files.\n",
        "4. Your private repositories and notebooks will now be available via the github navigation pane."
      ]
    },
    {
      "cell_type": "markdown",
      "metadata": {
        "id": "8J3NBxtZpPcK"
      },
      "source": [
        "## Saving Notebooks To GitHub or Drive\n",
        "\n",
        "Any time you open a GitHub hosted notebook in Colab, it opens a new editable view of the notebook. You can run and modify the notebook without worrying about overwriting the source.\n",
        "\n",
        "If you would like to save your changes from within Colab, you can use the File menu to save the modified notebook either to Google Drive or back to GitHub. Choose **File→Save a copy in Drive** or **File→Save a copy to GitHub** and follow the resulting prompts. To save a Colab notebook to GitHub requires giving Colab permission to push the commit to your repository."
      ]
    },
    {
      "cell_type": "markdown",
      "metadata": {
        "id": "8QAWNjizy_3O"
      },
      "source": [
        "## Open In Colab Badge\n",
        "\n",
        "Anybody can open a copy of any github-hosted notebook within Colab. To make it easier to give people access to live views of GitHub-hosted notebooks,\n",
        "colab provides a [shields.io](http://shields.io/)-style badge, which appears as follows:\n",
        "\n",
        "[![Open In Colab](https://colab.research.google.com/assets/colab-badge.svg)](https://colab.research.google.com/github/googlecolab/colabtools/blob/master/notebooks/colab-github-demo.ipynb)\n",
        "\n",
        "The markdown for the above badge is the following:\n",
        "\n",
        "```markdown\n",
        "[![Open In Colab](https://colab.research.google.com/assets/colab-badge.svg)](https://colab.research.google.com/github/googlecolab/colabtools/blob/master/notebooks/colab-github-demo.ipynb)\n",
        "```\n",
        "\n",
        "The HTML equivalent is:\n",
        "\n",
        "```HTML\n",
        "<a href=\"https://colab.research.google.com/github/googlecolab/colabtools/blob/master/notebooks/colab-github-demo.ipynb\">\n",
        "  <img src=\"https://colab.research.google.com/assets/colab-badge.svg\" alt=\"Open In Colab\"/>\n",
        "</a>\n",
        "```\n",
        "\n",
        "Remember to replace the notebook URL in this template with the notebook you want to link to."
      ]
    },
    {
      "cell_type": "code",
      "metadata": {
        "id": "3VQqVi-3ScBC"
      },
      "source": [
        ""
      ],
      "execution_count": null,
      "outputs": []
    }
  ]
}